{
 "cells": [
  {
   "cell_type": "code",
   "execution_count": null,
   "metadata": {},
   "outputs": [],
   "source": [
    "'''\n",
    "\n",
    "Задача 1\n",
    "\n",
    "Даны значения величины заработной платы заемщиков банка (salary) и значения их поведенческого кредитного скоринга (scoring):\n",
    "\n",
    "salary = [35, 45, 190, 200, 40, 70, 54, 150, 120, 110]\n",
    "scoring = [401, 574, 874, 919, 459, 739, 653, 902, 746, 832]\n",
    "\n",
    "Возьмём в качестве признака значение salary, а в качестве целевой переменной - scoring.\n",
    "\n",
    "Найдите коэффициенты линейной регрессии с помощью формул для парной регрессии, а затем с помощью метода наименьших квадратов.\n",
    "Постройте scatter plot по данным и отметьте на нём прямую линейной регрессии, полученную в п. 1.\n",
    "Посчитайте коэффициент детерминации, среднюю ошибку аппроксимации.\n",
    "Оцените построенное уравнение регрессии с помощью F-критерия Фишера.\n",
    "Оцените значимость получившихся параметров уравнения регрессии и постройте для них доверительные интервалы с помощью t-статистики Стьюдента.\n",
    "\n",
    "Задача 2\n",
    "\n",
    "В каких случаях для вычисления доверительных интервалов и проверки статистических гипотез используется таблица значений функции Лапласа, \n",
    "а в каких - таблица квантилей распределения Стьюдента?\n",
    "\n",
    "\n",
    "'''"
   ]
  },
  {
   "cell_type": "code",
   "execution_count": 32,
   "metadata": {},
   "outputs": [],
   "source": [
    "from IPython.display import Image\n",
    "import numpy as np\n",
    "import pandas as pd\n",
    "from collections import defaultdict\n",
    "import scipy.stats as sst\n",
    "import matplotlib\n",
    "%matplotlib inline\n",
    "import matplotlib.pyplot as plt"
   ]
  },
  {
   "cell_type": "code",
   "execution_count": 33,
   "metadata": {},
   "outputs": [],
   "source": [
    "import numpy as np\n",
    "import matplotlib.pyplot as plt\n",
    "\n",
    "\n",
    "x = np.array([35, 45, 190, 200, 40, 70, 54, 150, 120, 110])#salary\n",
    "y = np.array([401, 574, 874, 919, 459, 739, 653, 902, 746, 832]) #scoring"
   ]
  },
  {
   "cell_type": "code",
   "execution_count": 34,
   "metadata": {},
   "outputs": [
    {
     "name": "stdout",
     "output_type": "stream",
     "text": [
      "к-т парной корреляции r_xy 0.8874900920739162, intercept B0 444.17735732435943, slope B1 2.6205388824027667\n"
     ]
    }
   ],
   "source": [
    "n = len(x)\n",
    "c = 0 #  числитель \n",
    "\n",
    "\n",
    "dx = 0 # дисперсия x до извлечения корня - знаменатель x \n",
    "dy = 0 # исперсия y до извлечения корня - знаменатель y \n",
    "\n",
    "d_xy = 0\n",
    "x_2 = 0\n",
    "\n",
    "x_m =  sum(x)/len(x) #среднее значение x\n",
    "y_m = sum(y)/len(y) #среднее значение y\n",
    "\n",
    "\n",
    "for i in range(l):\n",
    "    f = (x[i] - x_m)*(y[i] - y_m)\n",
    "    c = c + f\n",
    "    \n",
    "    d_x = (x[i] - x_m)**2 \n",
    "    d_y = (y[i] - y_m)**2 \n",
    "    \n",
    "    x2 = x[i]**2\n",
    "    x_2 += x2\n",
    "    \n",
    "    xy = x[i]*y[i]\n",
    "    d_xy +=xy\n",
    "    \n",
    "    dx = dx + d_x\n",
    "    dy = dy + d_y\n",
    "\n",
    "b1 = (d_xy - (sum(x)*sum(y))/n)/(x_2 - (sum(x)**2)/n) #B1- slope - отвечает за направление нашей линии и угол наклона \n",
    "b0 = y_m - b1*x_m #Bo - intercept - свободный член, определяет, где наша линия пересекает ось Y\n",
    "rx = c / np.sqrt((dx*dy)) #к-т парной корреляции \n",
    "\n",
    "\n",
    "print (f'к-т парной корреляции r_xy {rx}, intercept B0 {b0}, slope B1 {b1}')"
   ]
  },
  {
   "cell_type": "code",
   "execution_count": 35,
   "metadata": {},
   "outputs": [
    {
     "data": {
      "text/plain": [
       "2.620538882402765"
      ]
     },
     "execution_count": 35,
     "metadata": {},
     "output_type": "execute_result"
    }
   ],
   "source": [
    "# Вариант 2 поиска значения к-та slope b1\n",
    "b1_2 = (np.mean(x * y) - np.mean(x) * np.mean(y)) / (np.mean(x**2) - np.mean(x) ** 2) # B1- slope  - вариант 2\n",
    "b1_2"
   ]
  },
  {
   "cell_type": "code",
   "execution_count": 38,
   "metadata": {},
   "outputs": [
    {
     "name": "stdout",
     "output_type": "stream",
     "text": [
      "intercept B0 444.1773573243596, slope B1 2.620538882402765\n"
     ]
    }
   ],
   "source": [
    "# Найдем коэффициенты линейной регрессии с помощью метода наименьших квадратов \n",
    "\n",
    "b1_22  = (np.std(y)/np.std(x))*rx\n",
    "b0_22 = y_m - b1_22*x_m\n",
    "\n",
    "print (f'intercept B0 {b0_22}, slope B1 {b1_22}')"
   ]
  },
  {
   "cell_type": "code",
   "execution_count": 23,
   "metadata": {},
   "outputs": [
    {
     "data": {
      "text/plain": [
       "array([535.89621821, 562.10160703, 942.07974498, 968.2851338 ,\n",
       "       548.99891262, 627.61507909, 585.68645697, 837.25818968,\n",
       "       758.64202321, 732.43663439])"
      ]
     },
     "execution_count": 23,
     "metadata": {},
     "output_type": "execute_result"
    }
   ],
   "source": [
    "# Уравнение линейной регрессии \n",
    "y_pred = b0 + b1 * x\n",
    "y_pred"
   ]
  },
  {
   "cell_type": "code",
   "execution_count": 24,
   "metadata": {},
   "outputs": [
    {
     "data": {
      "text/html": [
       "<div>\n",
       "<style scoped>\n",
       "    .dataframe tbody tr th:only-of-type {\n",
       "        vertical-align: middle;\n",
       "    }\n",
       "\n",
       "    .dataframe tbody tr th {\n",
       "        vertical-align: top;\n",
       "    }\n",
       "\n",
       "    .dataframe thead th {\n",
       "        text-align: right;\n",
       "    }\n",
       "</style>\n",
       "<table border=\"1\" class=\"dataframe\">\n",
       "  <thead>\n",
       "    <tr style=\"text-align: right;\">\n",
       "      <th></th>\n",
       "      <th>x</th>\n",
       "      <th>y</th>\n",
       "      <th>y_pred</th>\n",
       "    </tr>\n",
       "  </thead>\n",
       "  <tbody>\n",
       "    <tr>\n",
       "      <th>0</th>\n",
       "      <td>35</td>\n",
       "      <td>401</td>\n",
       "      <td>535.896218</td>\n",
       "    </tr>\n",
       "    <tr>\n",
       "      <th>1</th>\n",
       "      <td>45</td>\n",
       "      <td>574</td>\n",
       "      <td>562.101607</td>\n",
       "    </tr>\n",
       "    <tr>\n",
       "      <th>2</th>\n",
       "      <td>190</td>\n",
       "      <td>874</td>\n",
       "      <td>942.079745</td>\n",
       "    </tr>\n",
       "    <tr>\n",
       "      <th>3</th>\n",
       "      <td>200</td>\n",
       "      <td>919</td>\n",
       "      <td>968.285134</td>\n",
       "    </tr>\n",
       "    <tr>\n",
       "      <th>4</th>\n",
       "      <td>40</td>\n",
       "      <td>459</td>\n",
       "      <td>548.998913</td>\n",
       "    </tr>\n",
       "    <tr>\n",
       "      <th>5</th>\n",
       "      <td>70</td>\n",
       "      <td>739</td>\n",
       "      <td>627.615079</td>\n",
       "    </tr>\n",
       "    <tr>\n",
       "      <th>6</th>\n",
       "      <td>54</td>\n",
       "      <td>653</td>\n",
       "      <td>585.686457</td>\n",
       "    </tr>\n",
       "    <tr>\n",
       "      <th>7</th>\n",
       "      <td>150</td>\n",
       "      <td>902</td>\n",
       "      <td>837.258190</td>\n",
       "    </tr>\n",
       "    <tr>\n",
       "      <th>8</th>\n",
       "      <td>120</td>\n",
       "      <td>746</td>\n",
       "      <td>758.642023</td>\n",
       "    </tr>\n",
       "    <tr>\n",
       "      <th>9</th>\n",
       "      <td>110</td>\n",
       "      <td>832</td>\n",
       "      <td>732.436634</td>\n",
       "    </tr>\n",
       "  </tbody>\n",
       "</table>\n",
       "</div>"
      ],
      "text/plain": [
       "     x    y      y_pred\n",
       "0   35  401  535.896218\n",
       "1   45  574  562.101607\n",
       "2  190  874  942.079745\n",
       "3  200  919  968.285134\n",
       "4   40  459  548.998913\n",
       "5   70  739  627.615079\n",
       "6   54  653  585.686457\n",
       "7  150  902  837.258190\n",
       "8  120  746  758.642023\n",
       "9  110  832  732.436634"
      ]
     },
     "execution_count": 24,
     "metadata": {},
     "output_type": "execute_result"
    }
   ],
   "source": [
    "# Добавим предсказание в общие данные \n",
    "df = pd.DataFrame({'x': x, 'y': y, 'y_pred': y_pred}, columns=['x', 'y', 'y_pred'])\n",
    "df"
   ]
  },
  {
   "cell_type": "code",
   "execution_count": 31,
   "metadata": {},
   "outputs": [
    {
     "data": {
      "image/png": "[encoded data removed]",
      "text/plain": [
       "<Figure size 432x288 with 1 Axes>"
      ]
     },
     "metadata": {
      "needs_background": "light"
     },
     "output_type": "display_data"
    }
   ],
   "source": [
    "# Построим scatter plot с данными предсказания \n",
    "\n",
    "plt.scatter(df['x'], df['y'])\n",
    "plt.plot(df['x'], df['y_pred'])\n",
    "plt.xlabel('Зарплата')\n",
    "plt.ylabel('Скоринг')\n",
    "plt.show()"
   ]
  },
  {
   "cell_type": "code",
   "execution_count": 40,
   "metadata": {},
   "outputs": [
    {
     "data": {
      "text/plain": [
       "0.7876386635293682"
      ]
     },
     "execution_count": 40,
     "metadata": {},
     "output_type": "execute_result"
    }
   ],
   "source": [
    "#Посчитаем к-т детерминации \n",
    "\n",
    "R2 = rx**2\n",
    "R2"
   ]
  },
  {
   "cell_type": "markdown",
   "metadata": {},
   "source": [
    "Это означает, что 78.7% вариации уровная скоринга ($y$) объясняется вариацией фактора $x$ — размер зарплаты."
   ]
  },
  {
   "cell_type": "markdown",
   "metadata": {},
   "source": [
    "$\\overline {A}$"
   ]
  },
  {
   "cell_type": "code",
   "execution_count": 42,
   "metadata": {},
   "outputs": [
    {
     "data": {
      "text/plain": [
       "11.469251843561707"
      ]
     },
     "execution_count": 42,
     "metadata": {},
     "output_type": "execute_result"
    }
   ],
   "source": [
    "#Оценим качество модели с помощью средней ошибки аппроксимации :\n",
    "\n",
    "A_mean = 100 * np.mean(np.abs((y - y_pred) / y))\n",
    "A_mean"
   ]
  },
  {
   "cell_type": "markdown",
   "metadata": {},
   "source": [
    "Так как $\\overline {A}$ равна 11.4%, что  превышает 8-10 %, модель плохо описывает эмпирические данные. "
   ]
  },
  {
   "cell_type": "code",
   "execution_count": 45,
   "metadata": {},
   "outputs": [
    {
     "data": {
      "text/plain": [
       "29.671640859664432"
      ]
     },
     "execution_count": 45,
     "metadata": {},
     "output_type": "execute_result"
    }
   ],
   "source": [
    "# Для оценки значимости уравнения регрессии воспользуемся F-критерием Фишера. Найдем фактическое значение F-критерия:\n",
    "\n",
    "F_fact = (rx**2 * (n - 2)) / (1 - rx**2)\n",
    "F_fact"
   ]
  },
  {
   "cell_type": "markdown",
   "metadata": {},
   "source": [
    "При 5 % уровне значимости и степенях свободы $k_1 = 1$ и $k_2 = 10 - 2 = 8 $ табличное значение критерия: $F_{кр} = 5.32$.\n",
    "Для парной регрессии число степеней свободы = df - 2.\n",
    "Так как $F_{факт} = 29.67 > F_{кр} = 5.32$, уравнение регрессии статистически значимо."
   ]
  },
  {
   "cell_type": "code",
   "execution_count": null,
   "metadata": {},
   "outputs": [],
   "source": [
    "# Оценим значимость получившихся параметров уравнения регрессии и построим для них доверительные интервалы \n",
    "#с помощью t-статистики Стьюдента.\n"
   ]
  },
  {
   "cell_type": "markdown",
   "metadata": {},
   "source": [
    "Значение t-критерия Стьюдента"
   ]
  },
  {
   "cell_type": "markdown",
   "metadata": {},
   "source": [
    "$$t_{кр} = 2.306$$"
   ]
  },
  {
   "cell_type": "markdown",
   "metadata": {},
   "source": [
    "Определим стандартную ошибку $S_{ост}$ (переменная **s_residual**) и случайные ошибки $m_a, \\; m_b$:"
   ]
  },
  {
   "cell_type": "code",
   "execution_count": 50,
   "metadata": {},
   "outputs": [
    {
     "name": "stdout",
     "output_type": "stream",
     "text": [
      "s_residual = 89.93340731602923\n",
      "m_a = 56.46649755068151\n",
      "m_b = 0.4810827956851599\n"
     ]
    }
   ],
   "source": [
    "s_residual = np.sqrt(np.sum((y - y_pred)**2) / (n - 2))\n",
    "m_a = s_residual * np.sqrt(np.sum(x ** 2)) / (n * np.std(x))\n",
    "m_b = s_residual / (np.std(x) * np.sqrt(n))\n",
    "\n",
    "print('s_residual = {}\\nm_a = {}\\nm_b = {}'.format(s_residual, m_a, m_b))"
   ]
  },
  {
   "cell_type": "markdown",
   "metadata": {},
   "source": [
    "Вычислим наблюдаемые значения критерия $t_a$ и $t_b$:"
   ]
  },
  {
   "cell_type": "code",
   "execution_count": 51,
   "metadata": {},
   "outputs": [
    {
     "data": {
      "text/plain": [
       "7.866210524668863"
      ]
     },
     "execution_count": 51,
     "metadata": {},
     "output_type": "execute_result"
    }
   ],
   "source": [
    "t_a = b0 / m_a\n",
    "t_a"
   ]
  },
  {
   "cell_type": "code",
   "execution_count": 52,
   "metadata": {},
   "outputs": [
    {
     "data": {
      "text/plain": [
       "5.4471681504855844"
      ]
     },
     "execution_count": 52,
     "metadata": {},
     "output_type": "execute_result"
    }
   ],
   "source": [
    "t_b = b1 / m_b\n",
    "t_b"
   ]
  },
  {
   "cell_type": "markdown",
   "metadata": {},
   "source": [
    "Фактические значения t-статистики больше табличного значения:"
   ]
  },
  {
   "cell_type": "markdown",
   "metadata": {},
   "source": [
    "$$t_a = 7.86> t_{кр} = 2.306, \\; t_b = 5.44 > t_{кр} = 2.306,$$"
   ]
  },
  {
   "cell_type": "markdown",
   "metadata": {},
   "source": [
    "поэтому параметры $b0$ и $b1$ не случайно отличаются от нуля, то есть они статистически значимы."
   ]
  },
  {
   "cell_type": "markdown",
   "metadata": {},
   "source": [
    "Рассчитаем доверительные интервалы для параметров регрессии $b0$ и $b1$. Для этого определим предельную ошибку для каждого показателя ($\\Delta_{b0}$ и $\\Delta_{b1}$),\n",
    "\n",
    "используя значение $t_{кр}$, равное 2.306 (переменная **t_cr**):"
   ]
  },
  {
   "cell_type": "code",
   "execution_count": 56,
   "metadata": {},
   "outputs": [],
   "source": [
    "t_cr = 2.306"
   ]
  },
  {
   "cell_type": "code",
   "execution_count": 57,
   "metadata": {},
   "outputs": [
    {
     "data": {
      "text/plain": [
       "130.21174335187158"
      ]
     },
     "execution_count": 57,
     "metadata": {},
     "output_type": "execute_result"
    }
   ],
   "source": [
    "delta_a = t_cr * m_a\n",
    "delta_a"
   ]
  },
  {
   "cell_type": "code",
   "execution_count": 58,
   "metadata": {},
   "outputs": [
    {
     "data": {
      "text/plain": [
       "1.1093769268499787"
      ]
     },
     "execution_count": 58,
     "metadata": {},
     "output_type": "execute_result"
    }
   ],
   "source": [
    "delta_b = t_cr * m_b\n",
    "delta_b"
   ]
  },
  {
   "cell_type": "markdown",
   "metadata": {},
   "source": [
    "Найдем границы доверительных интервалов $\\gamma_{a_{min}}, \\gamma_{a_{max}}, \\gamma_{b_{min}}, \\gamma_{b_{max}}$:"
   ]
  },
  {
   "cell_type": "code",
   "execution_count": 60,
   "metadata": {},
   "outputs": [
    {
     "data": {
      "text/plain": [
       "313.96561397248786"
      ]
     },
     "execution_count": 60,
     "metadata": {},
     "output_type": "execute_result"
    }
   ],
   "source": [
    "gamma_a_min = b0 - delta_a\n",
    "gamma_a_min"
   ]
  },
  {
   "cell_type": "code",
   "execution_count": 61,
   "metadata": {},
   "outputs": [
    {
     "data": {
      "text/plain": [
       "574.389100676231"
      ]
     },
     "execution_count": 61,
     "metadata": {},
     "output_type": "execute_result"
    }
   ],
   "source": [
    "gamma_a_max = b0 + delta_a\n",
    "gamma_a_max"
   ]
  },
  {
   "cell_type": "code",
   "execution_count": 62,
   "metadata": {},
   "outputs": [
    {
     "data": {
      "text/plain": [
       "1.511161955552788"
      ]
     },
     "execution_count": 62,
     "metadata": {},
     "output_type": "execute_result"
    }
   ],
   "source": [
    "gamma_b_min = b1 - delta_b\n",
    "gamma_b_min"
   ]
  },
  {
   "cell_type": "code",
   "execution_count": 63,
   "metadata": {},
   "outputs": [
    {
     "data": {
      "text/plain": [
       "3.7299158092527454"
      ]
     },
     "execution_count": 63,
     "metadata": {},
     "output_type": "execute_result"
    }
   ],
   "source": [
    "gamma_b_max = b1 + delta_b\n",
    "gamma_b_max"
   ]
  },
  {
   "cell_type": "markdown",
   "metadata": {},
   "source": [
    "Приходим к выводу о том, что с вероятностью $p = 1 - \\alpha = 0.95$ параметры $b0$ и $b1$, находясь в указанных границах, \n",
    "\n",
    "являются статистически значимыми и отличны от нуля."
   ]
  },
  {
   "cell_type": "code",
   "execution_count": null,
   "metadata": {},
   "outputs": [],
   "source": [
    "# Задача 2 \n",
    "\n",
    "В каких случаях для вычисления доверительных интервалов и проверки статистических гипотез используется таблица значений функции Лапласа, \n",
    "а в каких - таблица квантилей распределения Стьюдента?\n",
    "\n",
    "Ответ. \n",
    "\n",
    "Мы используем t - распределение для проверки нулевых гипотез, \n",
    "если нам неизвестно стандартное отклонение в генеральной совокупности, необходимое для расчета стандартной ошибки. \n",
    "\n",
    "\n"
   ]
  }
 ],
 "metadata": {
  "kernelspec": {
   "display_name": "Python 3",
   "language": "python",
   "name": "python3"
  },
  "language_info": {
   "codemirror_mode": {
    "name": "ipython",
    "version": 3
   },
   "file_extension": ".py",
   "mimetype": "text/x-python",
   "name": "python",
   "nbconvert_exporter": "python",
   "pygments_lexer": "ipython3",
   "version": "3.7.3"
  }
 },
 "nbformat": 4,
 "nbformat_minor": 2
}
